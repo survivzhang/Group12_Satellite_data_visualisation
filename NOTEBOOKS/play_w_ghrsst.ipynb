{
 "cells": [
  {
   "cell_type": "markdown",
   "id": "903210c6-1f13-47d3-abd6-c15eb4cd2f63",
   "metadata": {},
   "source": [
    "# Plot GHRSST night time scenes\n",
    "\n",
    "Use data on IMOS s3 bucket\n",
    "\n",
    "http://imos-data.s3-website-ap-southeast-2.amazonaws.com/?prefix=IMOS/SRS/SST/ghrsst/L3C-1d/ngt/snpp/2023/"
   ]
  },
  {
   "cell_type": "code",
   "execution_count": 7,
   "id": "12e325f3-b4d0-4496-a710-a0484d153111",
   "metadata": {},
   "outputs": [],
   "source": [
    "import os, glob\n",
    "import xarray as xr\n",
    "import s3fs\n",
    "import imageio\n",
    "\n",
    "import matplotlib.pyplot as plt\n",
    "import numpy as np\n",
    "import cmocean  # Oceanography colour maps\n"
   ]
  },
  {
   "cell_type": "code",
   "execution_count": 8,
   "id": "c6c3dda9-549b-4080-98de-dedcba89cab7",
   "metadata": {},
   "outputs": [],
   "source": [
    "#from utils import plot_swot_basemap\n",
    "def plot_swot_basemap(ax, xlim, ylim):\n",
    "    import cartopy.crs as ccrs\n",
    "    import cartopy.feature as cfeature\n",
    "    ax.set_extent([xlim[0], xlim[1], ylim[0], ylim[1]], crs=ccrs.PlateCarree())\n",
    "    ax.coastlines(resolution=\"10m\", color=\"black\", linewidth=0.8)\n",
    "    ax.add_feature(cfeature.LAND, facecolor=\"lightgray\")\n",
    "    gl = ax.gridlines(draw_labels=True, linewidth=0.5, color='gray', alpha=0.5)\n",
    "    gl.top_labels = False\n",
    "    gl.right_labels = False\n",
    "    return ax\n"
   ]
  },
  {
   "cell_type": "code",
   "execution_count": 9,
   "id": "0a5388e2-1d63-4a40-9e4c-5b6f6e2886e5",
   "metadata": {},
   "outputs": [],
   "source": [
    "plt.rcParams['font.size']=14\n",
    "plt.rcParams['axes.labelsize']='medium'"
   ]
  },
  {
   "cell_type": "code",
   "execution_count": 10,
   "id": "251b0c18-30ec-4b6e-9611-c1a9839b994d",
   "metadata": {},
   "outputs": [
    {
     "name": "stdout",
     "output_type": "stream",
     "text": [
      "imos-data/AIMS\n",
      "imos-data/Bureau_of_Meteorology\n",
      "imos-data/CSIRO\n",
      "imos-data/Charles_Darwin_University\n",
      "imos-data/Curtin_University\n",
      "imos-data/Deakin_University\n",
      "imos-data/Defence_Technology_Agency-New_Zealand\n",
      "imos-data/Department_for_Environment_and_Water-South_Australia\n",
      "imos-data/Department_of_Defence\n",
      "imos-data/Department_of_Environment_and_Science-Queensland\n",
      "imos-data/Department_of_Planning_and_Environment-New_South_Wales\n",
      "imos-data/Department_of_Transport-Western_Australia\n",
      "imos-data/Derwent_Estuary_Program\n",
      "imos-data/Flinders_University\n",
      "imos-data/Future_Reef_MAP\n",
      "imos-data/Gippsland-Ports-Victoria\n",
      "imos-data/IMOS\n",
      "imos-data/Macquarie_University\n",
      "imos-data/NSW-OEH\n",
      "imos-data/Pilbara_Ports_Authority\n",
      "imos-data/Southern_Cross_University\n",
      "imos-data/TERN\n",
      "imos-data/UNSW\n",
      "imos-data/UON\n",
      "imos-data/UWA\n",
      "imos-data/WAMSI\n",
      "imos-data/aodn.js\n",
      "imos-data/error.html\n",
      "imos-data/index.html\n",
      "imos-data/robots.txt\n"
     ]
    }
   ],
   "source": [
    "# Login to the s3 bucket and list the folders in the base directory of the imos-data/ bucket\n",
    "\n",
    "fs = s3fs.S3FileSystem(anon=True) # Note that we can login anonymously because this bucket allows it\n",
    "\n",
    "aodn = fs.ls('imos-data/')\n",
    "for item in aodn:\n",
    "    print(item)"
   ]
  },
  {
   "cell_type": "code",
   "execution_count": 11,
   "id": "bee4df1e-3595-444c-841b-5889ca31b8ac",
   "metadata": {},
   "outputs": [
    {
     "name": "stdout",
     "output_type": "stream",
     "text": [
      "imos-data/IMOS/SRS/SST/ghrsst/L3C-1d/ngt/snpp/2025/20250801152000-ABOM-L3C_GHRSST-SSTskin-VIIRS_NPP-1d_night.nc\n",
      "imos-data/IMOS/SRS/SST/ghrsst/L3C-1d/ngt/snpp/2025/20250802152000-ABOM-L3C_GHRSST-SSTskin-VIIRS_NPP-1d_night.nc\n",
      "imos-data/IMOS/SRS/SST/ghrsst/L3C-1d/ngt/snpp/2025/20250803152000-ABOM-L3C_GHRSST-SSTskin-VIIRS_NPP-1d_night.nc\n",
      "imos-data/IMOS/SRS/SST/ghrsst/L3C-1d/ngt/snpp/2025/20250804152000-ABOM-L3C_GHRSST-SSTskin-VIIRS_NPP-1d_night.nc\n",
      "imos-data/IMOS/SRS/SST/ghrsst/L3C-1d/ngt/snpp/2025/20250805152000-ABOM-L3C_GHRSST-SSTskin-VIIRS_NPP-1d_night.nc\n",
      "imos-data/IMOS/SRS/SST/ghrsst/L3C-1d/ngt/snpp/2025/20250806152000-ABOM-L3C_GHRSST-SSTskin-VIIRS_NPP-1d_night.nc\n",
      "imos-data/IMOS/SRS/SST/ghrsst/L3C-1d/ngt/snpp/2025/20250807152000-ABOM-L3C_GHRSST-SSTskin-VIIRS_NPP-1d_night.nc\n",
      "imos-data/IMOS/SRS/SST/ghrsst/L3C-1d/ngt/snpp/2025/20250808152000-ABOM-L3C_GHRSST-SSTskin-VIIRS_NPP-1d_night.nc\n",
      "imos-data/IMOS/SRS/SST/ghrsst/L3C-1d/ngt/snpp/2025/20250809152000-ABOM-L3C_GHRSST-SSTskin-VIIRS_NPP-1d_night.nc\n",
      "imos-data/IMOS/SRS/SST/ghrsst/L3C-1d/ngt/snpp/2025/20250810152000-ABOM-L3C_GHRSST-SSTskin-VIIRS_NPP-1d_night.nc\n",
      "imos-data/IMOS/SRS/SST/ghrsst/L3C-1d/ngt/snpp/2025/20250811152000-ABOM-L3C_GHRSST-SSTskin-VIIRS_NPP-1d_night.nc\n"
     ]
    }
   ],
   "source": [
    "timestr = '202508'\n",
    "aodn = fs.glob(f'imos-data/IMOS/SRS/SST/ghrsst/L3C-1d/ngt/snpp/2025/{timestr}*.nc')\n",
    "\n",
    "for item in aodn:\n",
    "    print(item)\n",
    "\n"
   ]
  },
  {
   "cell_type": "code",
   "execution_count": 12,
   "id": "b947a08f",
   "metadata": {},
   "outputs": [
    {
     "name": "stdout",
     "output_type": "stream",
     "text": [
      "Downloading imos-data/IMOS/SRS/SST/ghrsst/L3C-1d/ngt/snpp/2025/20250801152000-ABOM-L3C_GHRSST-SSTskin-VIIRS_NPP-1d_night.nc -> ./DATA/GHRSST\\20250801152000-ABOM-L3C_GHRSST-SSTskin-VIIRS_NPP-1d_night.nc\n",
      "Downloading imos-data/IMOS/SRS/SST/ghrsst/L3C-1d/ngt/snpp/2025/20250802152000-ABOM-L3C_GHRSST-SSTskin-VIIRS_NPP-1d_night.nc -> ./DATA/GHRSST\\20250802152000-ABOM-L3C_GHRSST-SSTskin-VIIRS_NPP-1d_night.nc\n",
      "Downloading imos-data/IMOS/SRS/SST/ghrsst/L3C-1d/ngt/snpp/2025/20250803152000-ABOM-L3C_GHRSST-SSTskin-VIIRS_NPP-1d_night.nc -> ./DATA/GHRSST\\20250803152000-ABOM-L3C_GHRSST-SSTskin-VIIRS_NPP-1d_night.nc\n",
      "Downloading imos-data/IMOS/SRS/SST/ghrsst/L3C-1d/ngt/snpp/2025/20250804152000-ABOM-L3C_GHRSST-SSTskin-VIIRS_NPP-1d_night.nc -> ./DATA/GHRSST\\20250804152000-ABOM-L3C_GHRSST-SSTskin-VIIRS_NPP-1d_night.nc\n",
      "Downloading imos-data/IMOS/SRS/SST/ghrsst/L3C-1d/ngt/snpp/2025/20250805152000-ABOM-L3C_GHRSST-SSTskin-VIIRS_NPP-1d_night.nc -> ./DATA/GHRSST\\20250805152000-ABOM-L3C_GHRSST-SSTskin-VIIRS_NPP-1d_night.nc\n",
      "Downloading imos-data/IMOS/SRS/SST/ghrsst/L3C-1d/ngt/snpp/2025/20250806152000-ABOM-L3C_GHRSST-SSTskin-VIIRS_NPP-1d_night.nc -> ./DATA/GHRSST\\20250806152000-ABOM-L3C_GHRSST-SSTskin-VIIRS_NPP-1d_night.nc\n",
      "Downloading imos-data/IMOS/SRS/SST/ghrsst/L3C-1d/ngt/snpp/2025/20250807152000-ABOM-L3C_GHRSST-SSTskin-VIIRS_NPP-1d_night.nc -> ./DATA/GHRSST\\20250807152000-ABOM-L3C_GHRSST-SSTskin-VIIRS_NPP-1d_night.nc\n",
      "Downloading imos-data/IMOS/SRS/SST/ghrsst/L3C-1d/ngt/snpp/2025/20250808152000-ABOM-L3C_GHRSST-SSTskin-VIIRS_NPP-1d_night.nc -> ./DATA/GHRSST\\20250808152000-ABOM-L3C_GHRSST-SSTskin-VIIRS_NPP-1d_night.nc\n",
      "Downloading imos-data/IMOS/SRS/SST/ghrsst/L3C-1d/ngt/snpp/2025/20250809152000-ABOM-L3C_GHRSST-SSTskin-VIIRS_NPP-1d_night.nc -> ./DATA/GHRSST\\20250809152000-ABOM-L3C_GHRSST-SSTskin-VIIRS_NPP-1d_night.nc\n",
      "Downloading imos-data/IMOS/SRS/SST/ghrsst/L3C-1d/ngt/snpp/2025/20250810152000-ABOM-L3C_GHRSST-SSTskin-VIIRS_NPP-1d_night.nc -> ./DATA/GHRSST\\20250810152000-ABOM-L3C_GHRSST-SSTskin-VIIRS_NPP-1d_night.nc\n",
      "Downloading imos-data/IMOS/SRS/SST/ghrsst/L3C-1d/ngt/snpp/2025/20250811152000-ABOM-L3C_GHRSST-SSTskin-VIIRS_NPP-1d_night.nc -> ./DATA/GHRSST\\20250811152000-ABOM-L3C_GHRSST-SSTskin-VIIRS_NPP-1d_night.nc\n",
      "local files: 11\n"
     ]
    }
   ],
   "source": [
    "def download_netcdf(files_on_s3, outdir=\"./DATA/GHRSST\"):\n",
    "    os.makedirs(outdir, exist_ok=True)\n",
    "    local_files = []\n",
    "    for key in files_on_s3:\n",
    "        fname = os.path.basename(key)\n",
    "        local_path = os.path.join(outdir, fname)\n",
    "        if not os.path.exists(local_path):\n",
    "            print(f\"Downloading {key} -> {local_path}\")\n",
    "            fs.get(key, local_path)    # s3fs 下载\n",
    "        else:\n",
    "            print(f\"Skip existing: {local_path}\")\n",
    "        local_files.append(local_path)\n",
    "    return sorted(local_files)\n",
    "\n",
    "local_nc_files = download_netcdf(aodn, outdir=\"./DATA/GHRSST\")\n",
    "print(f\"local files: {len(local_nc_files)}\")\n"
   ]
  },
  {
   "cell_type": "code",
   "execution_count": 13,
   "id": "b5c8d4f0-fa76-43b6-a2b2-d9a91eeaea3a",
   "metadata": {},
   "outputs": [],
   "source": [
    "import os\n",
    "import cartopy.crs as ccrs\n",
    "\n",
    "def open_ds_any(ncfile: str):\n",
    "    \"\"\"本地路径用 xr.open_dataset；S3 键用 fs.open\"\"\"\n",
    "    if ncfile.startswith(\"imos-data/\") or ncfile.startswith(\"s3://\"):\n",
    "        with fs.open(ncfile) as f:\n",
    "            return xr.open_dataset(f)\n",
    "    else:\n",
    "        return xr.open_dataset(ncfile)\n",
    "\n",
    "def plot_scene(ncfile, timestr):\n",
    "    print(\"Plot:\", timestr, \"|\", ncfile)\n",
    "    sst = open_ds_any(ncfile)\n",
    "\n",
    "    # 裁剪经纬度范围（按需要改）\n",
    "    x1, x2 = 111, 114\n",
    "    y1, y2 = -15.5, -12\n",
    "    mysst = sst.sel(lon=slice(x1, x2), lat=slice(y2, y1))\n",
    "\n",
    "    # SST 变量名兜底\n",
    "    for v in [\"sea_surface_temperature\", \"analysed_sst\", \"sst\"]:\n",
    "        if v in mysst.variables:\n",
    "            varname = v\n",
    "            break\n",
    "    else:\n",
    "        raise KeyError(f\"No SST variable found in {ncfile}\")\n",
    "\n",
    "    da = mysst[varname].squeeze()\n",
    "\n",
    "    # 防御：像元至少 2x2 才能算梯度\n",
    "    if (da.sizes.get(\"lat\", 0) < 2) or (da.sizes.get(\"lon\", 0) < 2):\n",
    "        print(f\"Skip (too small for gradient): {da.sizes}\")\n",
    "        return\n",
    "\n",
    "    dx, dy = np.gradient(da.values)\n",
    "    x = mysst['lon'].values\n",
    "    y = mysst['lat'].values\n",
    "\n",
    "    fig, ax = plt.subplots(figsize=(8, 6), subplot_kw={'projection': ccrs.PlateCarree()})\n",
    "\n",
    "    da.plot(\n",
    "        ax=ax,\n",
    "        cmap=cmocean.cm.thermal,\n",
    "        vmin=26+273.15, vmax=29+273.15,\n",
    "        cbar_kwargs={\"shrink\": 0.3},\n",
    "        transform=ccrs.PlateCarree()\n",
    "    )\n",
    "\n",
    "    ax.pcolormesh(\n",
    "        x, y, np.abs(dx + 1j*dy),\n",
    "        vmin=0, vmax=0.1, cmap='bone_r', alpha=0.5,\n",
    "        transform=ccrs.PlateCarree()\n",
    "    )\n",
    "\n",
    "    plot_swot_basemap(ax, (x1, x2), (y1, y2))\n",
    "\n",
    "    os.makedirs('../FIGURES', exist_ok=True)\n",
    "    out_png = f'../FIGURES/GHRSST_1km_{timestr}.png'\n",
    "    plt.tight_layout()\n",
    "    plt.savefig(out_png, dpi=150)\n",
    "    plt.close(fig)\n",
    "    print(\"Saved:\", out_png)\n",
    "\n",
    "\n"
   ]
  },
  {
   "cell_type": "code",
   "execution_count": 14,
   "id": "a55f62f1",
   "metadata": {},
   "outputs": [
    {
     "name": "stdout",
     "output_type": "stream",
     "text": [
      "Plot: 20250801 | ./DATA/GHRSST\\20250801152000-ABOM-L3C_GHRSST-SSTskin-VIIRS_NPP-1d_night.nc\n",
      "Saved: ../FIGURES/GHRSST_1km_20250801.png\n",
      "Plot: 20250802 | ./DATA/GHRSST\\20250802152000-ABOM-L3C_GHRSST-SSTskin-VIIRS_NPP-1d_night.nc\n",
      "Saved: ../FIGURES/GHRSST_1km_20250802.png\n",
      "Plot: 20250803 | ./DATA/GHRSST\\20250803152000-ABOM-L3C_GHRSST-SSTskin-VIIRS_NPP-1d_night.nc\n",
      "Saved: ../FIGURES/GHRSST_1km_20250803.png\n",
      "Plot: 20250804 | ./DATA/GHRSST\\20250804152000-ABOM-L3C_GHRSST-SSTskin-VIIRS_NPP-1d_night.nc\n",
      "Saved: ../FIGURES/GHRSST_1km_20250804.png\n",
      "Plot: 20250805 | ./DATA/GHRSST\\20250805152000-ABOM-L3C_GHRSST-SSTskin-VIIRS_NPP-1d_night.nc\n",
      "Saved: ../FIGURES/GHRSST_1km_20250805.png\n",
      "Plot: 20250806 | ./DATA/GHRSST\\20250806152000-ABOM-L3C_GHRSST-SSTskin-VIIRS_NPP-1d_night.nc\n",
      "Saved: ../FIGURES/GHRSST_1km_20250806.png\n",
      "Plot: 20250807 | ./DATA/GHRSST\\20250807152000-ABOM-L3C_GHRSST-SSTskin-VIIRS_NPP-1d_night.nc\n",
      "Saved: ../FIGURES/GHRSST_1km_20250807.png\n",
      "Plot: 20250808 | ./DATA/GHRSST\\20250808152000-ABOM-L3C_GHRSST-SSTskin-VIIRS_NPP-1d_night.nc\n",
      "Saved: ../FIGURES/GHRSST_1km_20250808.png\n",
      "Plot: 20250809 | ./DATA/GHRSST\\20250809152000-ABOM-L3C_GHRSST-SSTskin-VIIRS_NPP-1d_night.nc\n",
      "Saved: ../FIGURES/GHRSST_1km_20250809.png\n",
      "Plot: 20250810 | ./DATA/GHRSST\\20250810152000-ABOM-L3C_GHRSST-SSTskin-VIIRS_NPP-1d_night.nc\n",
      "Saved: ../FIGURES/GHRSST_1km_20250810.png\n",
      "Plot: 20250811 | ./DATA/GHRSST\\20250811152000-ABOM-L3C_GHRSST-SSTskin-VIIRS_NPP-1d_night.nc\n",
      "Saved: ../FIGURES/GHRSST_1km_20250811.png\n"
     ]
    }
   ],
   "source": [
    "# 如果继续用 S3 打开，保持你原来的 for aodn...\n",
    "# 如果用本地文件打开，改成：\n",
    "for ncfile in local_nc_files:\n",
    "    timestr = os.path.basename(ncfile)[0:8]\n",
    "    # 本地打开：xr.open_dataset(ncfile) 即可\n",
    "    # 可以把 plot_scene 改成接受“本地/远程通用”，比如检测前缀：\n",
    "    plot_scene(ncfile, timestr)\n"
   ]
  },
  {
   "cell_type": "code",
   "execution_count": 15,
   "id": "9c96db67",
   "metadata": {},
   "outputs": [
    {
     "name": "stdout",
     "output_type": "stream",
     "text": [
      "GIF 已保存到 ../FIGURES/GHRSST_1km_anim.gif\n"
     ]
    }
   ],
   "source": [
    "import imageio\n",
    "import glob\n",
    "import os\n",
    "\n",
    "# 找到刚才生成的所有 PNG（按时间排序）\n",
    "png_files = sorted(glob.glob(\"../FIGURES/GHRSST_1km_*.png\"))\n",
    "\n",
    "# 读取并生成 GIF\n",
    "images = [imageio.v2.imread(f) for f in png_files]\n",
    "gif_path = \"../FIGURES/GHRSST_1km_anim.gif\"\n",
    "\n",
    "# duration 是每帧的时间（秒），你可以改成 0.5 / 1.0 等\n",
    "imageio.mimsave(gif_path, images, duration=0.5)\n",
    "\n",
    "print(f\"GIF 已保存到 {gif_path}\")\n"
   ]
  }
 ],
 "metadata": {
  "kernelspec": {
   "display_name": "mnf-ningaloo",
   "language": "python",
   "name": "python3"
  },
  "language_info": {
   "codemirror_mode": {
    "name": "ipython",
    "version": 3
   },
   "file_extension": ".py",
   "mimetype": "text/x-python",
   "name": "python",
   "nbconvert_exporter": "python",
   "pygments_lexer": "ipython3",
   "version": "3.11.13"
  }
 },
 "nbformat": 4,
 "nbformat_minor": 5
}
